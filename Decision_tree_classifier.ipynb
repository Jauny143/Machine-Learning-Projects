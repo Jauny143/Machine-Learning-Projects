{
  "nbformat": 4,
  "nbformat_minor": 0,
  "metadata": {
    "colab": {
      "name": "Decision_tree_classifier.ipynb",
      "provenance": [],
      "authorship_tag": "ABX9TyOYPpJgMGTbugJj2X1w+ZK1",
      "include_colab_link": true
    },
    "kernelspec": {
      "name": "python3",
      "display_name": "Python 3"
    },
    "language_info": {
      "name": "python"
    }
  },
  "cells": [
    {
      "cell_type": "markdown",
      "metadata": {
        "id": "view-in-github",
        "colab_type": "text"
      },
      "source": [
        "<a href=\"https://colab.research.google.com/github/Jauny143/Machine-Learning-Projects/blob/main/Decision_tree_classifier.ipynb\" target=\"_parent\"><img src=\"https://colab.research.google.com/assets/colab-badge.svg\" alt=\"Open In Colab\"/></a>"
      ]
    },
    {
      "cell_type": "code",
      "metadata": {
        "id": "bxPCfeRstH-b"
      },
      "source": [
        "# import required libraries\n",
        "import pandas as pd\n",
        "import numpy as np\n",
        "import matplotlib.pyplot as plt"
      ],
      "execution_count": 3,
      "outputs": []
    },
    {
      "cell_type": "code",
      "metadata": {
        "id": "o1UFuBoww8Jk"
      },
      "source": [
        "#upload data from github\n",
        "df = pd.read_csv('https://raw.githubusercontent.com/omairaasim/machine_learning/master/project_15_decision_tree_classifier/iphone_purchase_records.csv')"
      ],
      "execution_count": 4,
      "outputs": []
    },
    {
      "cell_type": "code",
      "metadata": {
        "colab": {
          "base_uri": "https://localhost:8080/",
          "height": 206
        },
        "id": "Bdma-G7PxGHK",
        "outputId": "bfbf19f1-e52a-4fdd-a858-47936d662fd5"
      },
      "source": [
        "df.head() #showing first five records"
      ],
      "execution_count": 5,
      "outputs": [
        {
          "output_type": "execute_result",
          "data": {
            "text/html": [
              "<div>\n",
              "<style scoped>\n",
              "    .dataframe tbody tr th:only-of-type {\n",
              "        vertical-align: middle;\n",
              "    }\n",
              "\n",
              "    .dataframe tbody tr th {\n",
              "        vertical-align: top;\n",
              "    }\n",
              "\n",
              "    .dataframe thead th {\n",
              "        text-align: right;\n",
              "    }\n",
              "</style>\n",
              "<table border=\"1\" class=\"dataframe\">\n",
              "  <thead>\n",
              "    <tr style=\"text-align: right;\">\n",
              "      <th></th>\n",
              "      <th>Gender</th>\n",
              "      <th>Age</th>\n",
              "      <th>Salary</th>\n",
              "      <th>Purchase Iphone</th>\n",
              "    </tr>\n",
              "  </thead>\n",
              "  <tbody>\n",
              "    <tr>\n",
              "      <th>0</th>\n",
              "      <td>Male</td>\n",
              "      <td>19</td>\n",
              "      <td>19000</td>\n",
              "      <td>0</td>\n",
              "    </tr>\n",
              "    <tr>\n",
              "      <th>1</th>\n",
              "      <td>Male</td>\n",
              "      <td>35</td>\n",
              "      <td>20000</td>\n",
              "      <td>0</td>\n",
              "    </tr>\n",
              "    <tr>\n",
              "      <th>2</th>\n",
              "      <td>Female</td>\n",
              "      <td>26</td>\n",
              "      <td>43000</td>\n",
              "      <td>0</td>\n",
              "    </tr>\n",
              "    <tr>\n",
              "      <th>3</th>\n",
              "      <td>Female</td>\n",
              "      <td>27</td>\n",
              "      <td>57000</td>\n",
              "      <td>0</td>\n",
              "    </tr>\n",
              "    <tr>\n",
              "      <th>4</th>\n",
              "      <td>Male</td>\n",
              "      <td>19</td>\n",
              "      <td>76000</td>\n",
              "      <td>0</td>\n",
              "    </tr>\n",
              "  </tbody>\n",
              "</table>\n",
              "</div>"
            ],
            "text/plain": [
              "   Gender  Age  Salary  Purchase Iphone\n",
              "0    Male   19   19000                0\n",
              "1    Male   35   20000                0\n",
              "2  Female   26   43000                0\n",
              "3  Female   27   57000                0\n",
              "4    Male   19   76000                0"
            ]
          },
          "metadata": {
            "tags": []
          },
          "execution_count": 5
        }
      ]
    },
    {
      "cell_type": "code",
      "metadata": {
        "colab": {
          "base_uri": "https://localhost:8080/"
        },
        "id": "XHQJX5AZxVVX",
        "outputId": "c9c8bf94-f68d-473e-8e23-235dd37d8ace"
      },
      "source": [
        "df.info()"
      ],
      "execution_count": 10,
      "outputs": [
        {
          "output_type": "stream",
          "text": [
            "<class 'pandas.core.frame.DataFrame'>\n",
            "RangeIndex: 400 entries, 0 to 399\n",
            "Data columns (total 4 columns):\n",
            " #   Column           Non-Null Count  Dtype \n",
            "---  ------           --------------  ----- \n",
            " 0   Gender           400 non-null    object\n",
            " 1   Age              400 non-null    int64 \n",
            " 2   Salary           400 non-null    int64 \n",
            " 3   Purchase Iphone  400 non-null    int64 \n",
            "dtypes: int64(3), object(1)\n",
            "memory usage: 12.6+ KB\n"
          ],
          "name": "stdout"
        }
      ]
    },
    {
      "cell_type": "code",
      "metadata": {
        "id": "at0vC1AVxxe_"
      },
      "source": [
        "X = df.iloc[:,:-1].values # independent features\n",
        "y = df.iloc[:,3].values # Target"
      ],
      "execution_count": 17,
      "outputs": []
    },
    {
      "cell_type": "code",
      "metadata": {
        "colab": {
          "base_uri": "https://localhost:8080/"
        },
        "id": "sgBmQxLvyCAz",
        "outputId": "baf833d4-2460-4dc4-8349-8a996008a6b5"
      },
      "source": [
        "X"
      ],
      "execution_count": 19,
      "outputs": [
        {
          "output_type": "execute_result",
          "data": {
            "text/plain": [
              "array([['Male', 19, 19000],\n",
              "       ['Male', 35, 20000],\n",
              "       ['Female', 26, 43000],\n",
              "       ...,\n",
              "       ['Female', 50, 20000],\n",
              "       ['Male', 36, 33000],\n",
              "       ['Female', 49, 36000]], dtype=object)"
            ]
          },
          "metadata": {
            "tags": []
          },
          "execution_count": 19
        }
      ]
    },
    {
      "cell_type": "code",
      "metadata": {
        "colab": {
          "base_uri": "https://localhost:8080/"
        },
        "id": "pNpFogvhyQFm",
        "outputId": "ceedc86b-b234-4a88-f41a-2253af7a74d4"
      },
      "source": [
        "y"
      ],
      "execution_count": 20,
      "outputs": [
        {
          "output_type": "execute_result",
          "data": {
            "text/plain": [
              "array([0, 0, 0, 0, 0, 0, 0, 1, 0, 0, 0, 0, 0, 0, 0, 0, 1, 1, 1, 1, 1, 1,\n",
              "       1, 1, 1, 1, 1, 1, 0, 0, 0, 1, 0, 0, 0, 0, 0, 0, 0, 0, 0, 0, 0, 0,\n",
              "       0, 0, 0, 0, 1, 0, 0, 0, 0, 0, 0, 0, 0, 0, 0, 0, 0, 0, 0, 1, 0, 0,\n",
              "       0, 0, 0, 0, 0, 0, 0, 0, 0, 1, 0, 0, 0, 0, 0, 0, 0, 0, 0, 1, 0, 0,\n",
              "       0, 0, 0, 0, 0, 0, 0, 0, 0, 1, 0, 0, 0, 0, 0, 1, 0, 0, 0, 0, 0, 0,\n",
              "       0, 0, 0, 0, 0, 0, 0, 0, 0, 0, 0, 0, 0, 0, 0, 0, 0, 0, 0, 0, 0, 0,\n",
              "       0, 0, 0, 0, 0, 1, 0, 0, 0, 0, 0, 0, 0, 0, 1, 0, 0, 0, 0, 0, 0, 0,\n",
              "       0, 0, 0, 0, 0, 1, 1, 0, 0, 0, 0, 0, 0, 0, 1, 0, 0, 0, 0, 0, 0, 0,\n",
              "       0, 0, 0, 0, 0, 0, 1, 0, 0, 0, 0, 0, 0, 0, 0, 0, 0, 0, 0, 0, 0, 0,\n",
              "       0, 0, 0, 0, 1, 0, 1, 0, 1, 0, 1, 0, 1, 1, 0, 0, 0, 1, 0, 0, 0, 1,\n",
              "       0, 1, 1, 1, 0, 0, 1, 1, 0, 1, 1, 0, 1, 1, 0, 1, 0, 0, 0, 1, 1, 0,\n",
              "       1, 1, 0, 1, 0, 1, 0, 1, 0, 0, 1, 1, 0, 1, 0, 0, 1, 1, 0, 1, 1, 0,\n",
              "       1, 1, 0, 0, 1, 0, 0, 1, 1, 1, 1, 1, 0, 1, 1, 1, 1, 0, 1, 1, 0, 1,\n",
              "       0, 1, 0, 1, 1, 1, 1, 0, 0, 0, 1, 1, 0, 1, 1, 1, 1, 1, 0, 0, 0, 1,\n",
              "       1, 0, 0, 1, 0, 1, 0, 1, 1, 0, 1, 0, 1, 1, 0, 1, 1, 0, 0, 0, 1, 1,\n",
              "       0, 1, 0, 0, 1, 0, 1, 0, 0, 1, 1, 0, 0, 1, 1, 0, 1, 1, 0, 0, 1, 0,\n",
              "       1, 0, 1, 1, 1, 0, 1, 0, 1, 1, 1, 0, 1, 1, 1, 1, 0, 1, 1, 1, 0, 1,\n",
              "       0, 1, 0, 0, 1, 1, 0, 1, 1, 1, 1, 1, 1, 0, 1, 1, 1, 1, 1, 1, 0, 1,\n",
              "       1, 1, 0, 1])"
            ]
          },
          "metadata": {
            "tags": []
          },
          "execution_count": 20
        }
      ]
    },
    {
      "cell_type": "code",
      "metadata": {
        "id": "dZlgzbgQyRoS"
      },
      "source": [
        "# convert age feature into numerical by using label encoder\n",
        "from sklearn.preprocessing import LabelEncoder\n",
        "label_encoder = LabelEncoder()\n",
        "X[:,0] = label_encoder.fit_transform(X[:,0])"
      ],
      "execution_count": 21,
      "outputs": []
    },
    {
      "cell_type": "code",
      "metadata": {
        "colab": {
          "base_uri": "https://localhost:8080/"
        },
        "id": "RQ5PokEM2rJC",
        "outputId": "51b7367a-ecf2-4dfb-8248-3b77ef461663"
      },
      "source": [
        "X"
      ],
      "execution_count": 22,
      "outputs": [
        {
          "output_type": "execute_result",
          "data": {
            "text/plain": [
              "array([[1, 19, 19000],\n",
              "       [1, 35, 20000],\n",
              "       [0, 26, 43000],\n",
              "       ...,\n",
              "       [0, 50, 20000],\n",
              "       [1, 36, 33000],\n",
              "       [0, 49, 36000]], dtype=object)"
            ]
          },
          "metadata": {
            "tags": []
          },
          "execution_count": 22
        }
      ]
    },
    {
      "cell_type": "code",
      "metadata": {
        "id": "EjIoSaUc2sBo"
      },
      "source": [
        "# spliting the dataset into train test variables\n",
        "from sklearn.model_selection import train_test_split\n",
        "X_train, X_test, y_train, y_test = train_test_split(X, y, test_size = 0.25, random_state = 0)"
      ],
      "execution_count": 23,
      "outputs": []
    },
    {
      "cell_type": "code",
      "metadata": {
        "colab": {
          "base_uri": "https://localhost:8080/"
        },
        "id": "0jpDm2sR3-mT",
        "outputId": "9a1b42ab-c9d2-4d2a-9128-74284958afb0"
      },
      "source": [
        "X_train "
      ],
      "execution_count": 24,
      "outputs": [
        {
          "output_type": "execute_result",
          "data": {
            "text/plain": [
              "array([[0, 44, 39000],\n",
              "       [1, 32, 120000],\n",
              "       [0, 38, 50000],\n",
              "       [0, 32, 135000],\n",
              "       [0, 52, 21000],\n",
              "       [0, 53, 104000],\n",
              "       [1, 39, 42000],\n",
              "       [1, 38, 61000],\n",
              "       [0, 36, 50000],\n",
              "       [0, 36, 63000],\n",
              "       [0, 35, 25000],\n",
              "       [1, 35, 50000],\n",
              "       [1, 42, 73000],\n",
              "       [0, 47, 49000],\n",
              "       [0, 59, 29000],\n",
              "       [1, 49, 65000],\n",
              "       [0, 45, 131000],\n",
              "       [0, 31, 89000],\n",
              "       [0, 46, 82000],\n",
              "       [0, 47, 51000],\n",
              "       [1, 26, 15000],\n",
              "       [1, 60, 102000],\n",
              "       [0, 38, 112000],\n",
              "       [1, 40, 107000],\n",
              "       [0, 42, 53000],\n",
              "       [1, 35, 59000],\n",
              "       [1, 48, 41000],\n",
              "       [0, 48, 134000],\n",
              "       [0, 38, 113000],\n",
              "       [1, 29, 148000],\n",
              "       [0, 26, 15000],\n",
              "       [1, 60, 42000],\n",
              "       [1, 24, 19000],\n",
              "       [1, 42, 149000],\n",
              "       [0, 46, 96000],\n",
              "       [1, 28, 59000],\n",
              "       [1, 39, 96000],\n",
              "       [1, 28, 89000],\n",
              "       [1, 41, 72000],\n",
              "       [1, 45, 26000],\n",
              "       [0, 33, 69000],\n",
              "       [0, 20, 82000],\n",
              "       [1, 31, 74000],\n",
              "       [1, 42, 80000],\n",
              "       [0, 35, 72000],\n",
              "       [0, 33, 149000],\n",
              "       [1, 40, 71000],\n",
              "       [0, 51, 146000],\n",
              "       [1, 46, 79000],\n",
              "       [1, 35, 75000],\n",
              "       [1, 38, 51000],\n",
              "       [0, 36, 75000],\n",
              "       [0, 37, 78000],\n",
              "       [1, 38, 61000],\n",
              "       [0, 60, 108000],\n",
              "       [0, 20, 82000],\n",
              "       [1, 57, 74000],\n",
              "       [1, 42, 65000],\n",
              "       [1, 26, 80000],\n",
              "       [1, 46, 117000],\n",
              "       [1, 35, 61000],\n",
              "       [0, 21, 68000],\n",
              "       [0, 28, 44000],\n",
              "       [1, 41, 87000],\n",
              "       [0, 37, 33000],\n",
              "       [1, 27, 90000],\n",
              "       [1, 39, 42000],\n",
              "       [1, 28, 123000],\n",
              "       [0, 31, 118000],\n",
              "       [1, 25, 87000],\n",
              "       [0, 35, 71000],\n",
              "       [1, 37, 70000],\n",
              "       [1, 35, 39000],\n",
              "       [1, 47, 23000],\n",
              "       [0, 35, 147000],\n",
              "       [0, 48, 138000],\n",
              "       [1, 26, 86000],\n",
              "       [1, 25, 79000],\n",
              "       [0, 52, 138000],\n",
              "       [1, 51, 23000],\n",
              "       [0, 35, 60000],\n",
              "       [0, 33, 113000],\n",
              "       [1, 30, 107000],\n",
              "       [1, 48, 33000],\n",
              "       [0, 41, 80000],\n",
              "       [0, 48, 96000],\n",
              "       [1, 31, 18000],\n",
              "       [0, 31, 71000],\n",
              "       [1, 43, 129000],\n",
              "       [0, 59, 76000],\n",
              "       [0, 18, 44000],\n",
              "       [1, 36, 118000],\n",
              "       [0, 42, 90000],\n",
              "       [0, 47, 30000],\n",
              "       [0, 26, 43000],\n",
              "       [1, 40, 78000],\n",
              "       [1, 46, 59000],\n",
              "       [0, 59, 42000],\n",
              "       [0, 46, 74000],\n",
              "       [1, 35, 91000],\n",
              "       [0, 28, 59000],\n",
              "       [1, 40, 57000],\n",
              "       [1, 59, 143000],\n",
              "       [0, 57, 26000],\n",
              "       [0, 52, 38000],\n",
              "       [0, 47, 113000],\n",
              "       [0, 53, 143000],\n",
              "       [1, 35, 27000],\n",
              "       [0, 58, 101000],\n",
              "       [0, 45, 45000],\n",
              "       [0, 23, 82000],\n",
              "       [1, 46, 23000],\n",
              "       [1, 42, 65000],\n",
              "       [0, 28, 84000],\n",
              "       [1, 38, 59000],\n",
              "       [0, 26, 84000],\n",
              "       [0, 29, 28000],\n",
              "       [0, 37, 71000],\n",
              "       [0, 22, 55000],\n",
              "       [0, 48, 35000],\n",
              "       [1, 49, 28000],\n",
              "       [0, 38, 65000],\n",
              "       [0, 27, 17000],\n",
              "       [1, 46, 28000],\n",
              "       [1, 48, 141000],\n",
              "       [0, 26, 17000],\n",
              "       [0, 35, 97000],\n",
              "       [0, 39, 59000],\n",
              "       [0, 24, 27000],\n",
              "       [1, 32, 18000],\n",
              "       [1, 46, 88000],\n",
              "       [1, 35, 58000],\n",
              "       [1, 56, 60000],\n",
              "       [1, 47, 34000],\n",
              "       [0, 40, 72000],\n",
              "       [1, 32, 100000],\n",
              "       [0, 19, 21000],\n",
              "       [1, 25, 90000],\n",
              "       [1, 35, 88000],\n",
              "       [1, 28, 32000],\n",
              "       [0, 50, 20000],\n",
              "       [1, 40, 59000],\n",
              "       [0, 50, 44000],\n",
              "       [1, 35, 72000],\n",
              "       [0, 40, 142000],\n",
              "       [0, 46, 32000],\n",
              "       [0, 39, 71000],\n",
              "       [1, 20, 74000],\n",
              "       [1, 29, 75000],\n",
              "       [1, 31, 76000],\n",
              "       [1, 47, 25000],\n",
              "       [1, 40, 61000],\n",
              "       [1, 34, 112000],\n",
              "       [0, 38, 80000],\n",
              "       [0, 42, 75000],\n",
              "       [0, 47, 47000],\n",
              "       [0, 39, 75000],\n",
              "       [1, 19, 25000],\n",
              "       [0, 37, 80000],\n",
              "       [1, 36, 60000],\n",
              "       [1, 41, 52000],\n",
              "       [1, 36, 125000],\n",
              "       [0, 48, 29000],\n",
              "       [0, 36, 126000],\n",
              "       [0, 51, 134000],\n",
              "       [0, 27, 57000],\n",
              "       [1, 38, 71000],\n",
              "       [0, 39, 61000],\n",
              "       [0, 22, 27000],\n",
              "       [0, 33, 60000],\n",
              "       [1, 48, 74000],\n",
              "       [0, 58, 23000],\n",
              "       [1, 53, 72000],\n",
              "       [0, 32, 117000],\n",
              "       [1, 54, 70000],\n",
              "       [1, 30, 80000],\n",
              "       [0, 58, 95000],\n",
              "       [0, 26, 52000],\n",
              "       [1, 45, 79000],\n",
              "       [1, 24, 55000],\n",
              "       [1, 40, 75000],\n",
              "       [0, 33, 28000],\n",
              "       [0, 44, 139000],\n",
              "       [1, 22, 18000],\n",
              "       [0, 33, 51000],\n",
              "       [0, 43, 133000],\n",
              "       [0, 24, 32000],\n",
              "       [0, 46, 22000],\n",
              "       [1, 35, 55000],\n",
              "       [0, 54, 104000],\n",
              "       [0, 48, 119000],\n",
              "       [1, 35, 53000],\n",
              "       [1, 37, 144000],\n",
              "       [0, 23, 66000],\n",
              "       [0, 37, 137000],\n",
              "       [1, 31, 58000],\n",
              "       [0, 33, 41000],\n",
              "       [0, 45, 22000],\n",
              "       [1, 30, 15000],\n",
              "       [1, 19, 19000],\n",
              "       [1, 49, 74000],\n",
              "       [1, 39, 122000],\n",
              "       [1, 35, 73000],\n",
              "       [1, 39, 71000],\n",
              "       [1, 24, 23000],\n",
              "       [0, 41, 72000],\n",
              "       [0, 29, 83000],\n",
              "       [0, 54, 26000],\n",
              "       [0, 35, 44000],\n",
              "       [1, 37, 75000],\n",
              "       [0, 29, 47000],\n",
              "       [0, 31, 68000],\n",
              "       [1, 42, 54000],\n",
              "       [1, 30, 135000],\n",
              "       [0, 52, 114000],\n",
              "       [0, 50, 36000],\n",
              "       [1, 56, 133000],\n",
              "       [1, 29, 61000],\n",
              "       [1, 30, 89000],\n",
              "       [1, 26, 16000],\n",
              "       [1, 33, 31000],\n",
              "       [0, 41, 72000],\n",
              "       [1, 36, 33000],\n",
              "       [0, 55, 125000],\n",
              "       [0, 48, 131000],\n",
              "       [0, 41, 71000],\n",
              "       [0, 30, 62000],\n",
              "       [1, 37, 72000],\n",
              "       [0, 41, 63000],\n",
              "       [0, 58, 47000],\n",
              "       [0, 30, 116000],\n",
              "       [1, 20, 49000],\n",
              "       [1, 37, 74000],\n",
              "       [1, 41, 59000],\n",
              "       [1, 49, 89000],\n",
              "       [1, 28, 79000],\n",
              "       [0, 53, 82000],\n",
              "       [1, 40, 57000],\n",
              "       [1, 60, 34000],\n",
              "       [1, 35, 108000],\n",
              "       [1, 21, 72000],\n",
              "       [1, 38, 71000],\n",
              "       [1, 39, 106000],\n",
              "       [0, 37, 57000],\n",
              "       [0, 26, 72000],\n",
              "       [0, 35, 23000],\n",
              "       [0, 54, 108000],\n",
              "       [1, 30, 17000],\n",
              "       [1, 39, 134000],\n",
              "       [1, 29, 43000],\n",
              "       [1, 33, 43000],\n",
              "       [1, 35, 38000],\n",
              "       [1, 41, 45000],\n",
              "       [0, 41, 72000],\n",
              "       [0, 39, 134000],\n",
              "       [0, 27, 137000],\n",
              "       [0, 21, 16000],\n",
              "       [1, 26, 32000],\n",
              "       [1, 31, 66000],\n",
              "       [0, 39, 73000],\n",
              "       [1, 41, 79000],\n",
              "       [0, 47, 50000],\n",
              "       [0, 41, 30000],\n",
              "       [0, 37, 93000],\n",
              "       [0, 60, 46000],\n",
              "       [1, 25, 22000],\n",
              "       [0, 28, 37000],\n",
              "       [0, 38, 55000],\n",
              "       [0, 36, 54000],\n",
              "       [0, 20, 36000],\n",
              "       [0, 56, 104000],\n",
              "       [1, 40, 57000],\n",
              "       [0, 42, 108000],\n",
              "       [0, 20, 23000],\n",
              "       [1, 40, 65000],\n",
              "       [1, 47, 20000],\n",
              "       [0, 18, 86000],\n",
              "       [1, 35, 79000],\n",
              "       [0, 57, 33000],\n",
              "       [0, 34, 72000],\n",
              "       [0, 49, 39000],\n",
              "       [0, 27, 31000],\n",
              "       [1, 19, 70000],\n",
              "       [0, 39, 79000],\n",
              "       [1, 26, 81000],\n",
              "       [1, 25, 80000],\n",
              "       [0, 28, 85000],\n",
              "       [1, 55, 39000],\n",
              "       [0, 50, 88000],\n",
              "       [1, 49, 88000],\n",
              "       [1, 52, 150000],\n",
              "       [0, 35, 65000],\n",
              "       [1, 42, 54000],\n",
              "       [1, 34, 43000],\n",
              "       [1, 37, 52000],\n",
              "       [0, 48, 30000],\n",
              "       [1, 29, 43000],\n",
              "       [1, 36, 52000],\n",
              "       [0, 27, 54000],\n",
              "       [0, 26, 118000]], dtype=object)"
            ]
          },
          "metadata": {
            "tags": []
          },
          "execution_count": 24
        }
      ]
    },
    {
      "cell_type": "code",
      "metadata": {
        "colab": {
          "base_uri": "https://localhost:8080/"
        },
        "id": "NTaB8eG_4QPB",
        "outputId": "0e3b484e-0e07-4fdc-b5f1-9e752e59921c"
      },
      "source": [
        "# using Decision tree calssifier\n",
        "\n",
        "from sklearn.tree import DecisionTreeClassifier\n",
        "classifier = DecisionTreeClassifier(criterion = \"entropy\", random_state = 0)\n",
        "classifier.fit(X_train,y_train)\n",
        " "
      ],
      "execution_count": 26,
      "outputs": [
        {
          "output_type": "execute_result",
          "data": {
            "text/plain": [
              "DecisionTreeClassifier(ccp_alpha=0.0, class_weight=None, criterion='entropy',\n",
              "                       max_depth=None, max_features=None, max_leaf_nodes=None,\n",
              "                       min_impurity_decrease=0.0, min_impurity_split=None,\n",
              "                       min_samples_leaf=1, min_samples_split=2,\n",
              "                       min_weight_fraction_leaf=0.0, presort='deprecated',\n",
              "                       random_state=0, splitter='best')"
            ]
          },
          "metadata": {
            "tags": []
          },
          "execution_count": 26
        }
      ]
    },
    {
      "cell_type": "code",
      "metadata": {
        "id": "TxU6UiKy5SkZ"
      },
      "source": [
        "y_pred = classifier.predict(X_test)"
      ],
      "execution_count": 27,
      "outputs": []
    },
    {
      "cell_type": "code",
      "metadata": {
        "colab": {
          "base_uri": "https://localhost:8080/"
        },
        "id": "ZfLUhwMv5oiP",
        "outputId": "e25cae83-01ef-4aad-c3cd-689dacc0a7c0"
      },
      "source": [
        "# calculate the performance\n",
        "\n",
        "from sklearn import metrics\n",
        "con_mat = metrics.confusion_matrix(y_test,y_pred)\n",
        "con_mat"
      ],
      "execution_count": 29,
      "outputs": [
        {
          "output_type": "execute_result",
          "data": {
            "text/plain": [
              "array([[63,  5],\n",
              "       [ 3, 29]])"
            ]
          },
          "metadata": {
            "tags": []
          },
          "execution_count": 29
        }
      ]
    },
    {
      "cell_type": "code",
      "metadata": {
        "id": "VJZmDJdF7oRh"
      },
      "source": [
        "accuracy = metrics.accuracy_score(y_test,y_pred)"
      ],
      "execution_count": 30,
      "outputs": []
    },
    {
      "cell_type": "code",
      "metadata": {
        "id": "6rw9MsSD8HKg"
      },
      "source": [
        "precison = metrics.precision_score(y_test,y_pred)"
      ],
      "execution_count": 31,
      "outputs": []
    },
    {
      "cell_type": "code",
      "metadata": {
        "id": "2GsfTNuN8L7p"
      },
      "source": [
        "recall = metrics.recall_score(y_test,y_pred)"
      ],
      "execution_count": 32,
      "outputs": []
    },
    {
      "cell_type": "code",
      "metadata": {
        "colab": {
          "base_uri": "https://localhost:8080/"
        },
        "id": "UAFwvLsG8SG9",
        "outputId": "2d600086-9555-4770-da3f-a468aa06b8ae"
      },
      "source": [
        "accuracy, precison, recall"
      ],
      "execution_count": 34,
      "outputs": [
        {
          "output_type": "execute_result",
          "data": {
            "text/plain": [
              "(0.92, 0.8529411764705882, 0.90625)"
            ]
          },
          "metadata": {
            "tags": []
          },
          "execution_count": 34
        }
      ]
    }
  ]
}